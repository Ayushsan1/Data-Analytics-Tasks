{
 "cells": [
  {
   "cell_type": "markdown",
   "id": "d34778ec",
   "metadata": {},
   "source": [
    "<h1> <span style=\"color:violet\"> Hypothesis Testing</span></h1>"
   ]
  },
  {
   "cell_type": "code",
   "execution_count": 1,
   "id": "8d279384",
   "metadata": {},
   "outputs": [],
   "source": [
    "import numpy as np\n",
    "import scipy.stats as stats"
   ]
  },
  {
   "cell_type": "code",
   "execution_count": 10,
   "id": "14bd6fb3",
   "metadata": {},
   "outputs": [],
   "source": [
    "def choose_and_perform_test(data1, data2, data_type=\"continuous\"):\n",
    "    if data_type == \"continuous\":\n",
    "        t_stat, p_value = stats.ttest_ind(data1, data2)\n",
    "        test_name = \"t-test\"\n",
    "    elif data_type == \"categorical\":       \n",
    "        contingency_table = np.array([data1, data2])       \n",
    "        chi2_stat, p_value, dof, expected = stats.chi2_contingency(contingency_table)\n",
    "        test_name = \"Chi-square test\"\n",
    "    else:\n",
    "        raise ValueError(\"Invalid data type. Choose 'continuous' or 'categorical'.\")\n",
    "    \n",
    "    return test_name, p_value"
   ]
  },
  {
   "cell_type": "markdown",
   "id": "5e50debe",
   "metadata": {},
   "source": [
    "<h3/><span style=\"color: Green\">Example for continous data</span> </h3>"
   ]
  },
  {
   "cell_type": "code",
   "execution_count": 7,
   "id": "42da60c7",
   "metadata": {},
   "outputs": [
    {
     "name": "stdout",
     "output_type": "stream",
     "text": [
      "Test performed: t-test\n",
      "P-value: 0.9121972836659579\n"
     ]
    },
    {
     "data": {
      "text/plain": [
       "0.9121972836659579"
      ]
     },
     "execution_count": 7,
     "metadata": {},
     "output_type": "execute_result"
    }
   ],
   "source": [
    "team_ind_scores = np.array([64, 39, 88, 92])\n",
    "team_aus_scores = np.array([78, 32, 80, 85])\n",
    "\n",
    "test_name, p_value = choose_and_perform_test(team_ind_scores, team_aus_scores, data_type=\"continuous\")\n",
    "print(f\"Test performed: {test_name}\")\n",
    "print(f\"P-value: {p_value}\")\n",
    "p_value"
   ]
  },
  {
   "cell_type": "markdown",
   "id": "f2a41065",
   "metadata": {},
   "source": [
    "<h3><span style=\"color:Green\">Example for categorical data</span></h3>"
   ]
  },
  {
   "cell_type": "code",
   "execution_count": 11,
   "id": "4f19a22f",
   "metadata": {},
   "outputs": [
    {
     "name": "stdout",
     "output_type": "stream",
     "text": [
      "Test performed: Chi-square test\n",
      "P-value: 0.9121972836659579\n"
     ]
    }
   ],
   "source": [
    "\n",
    "team_ind_outcomes = np.array([20, 30])  # [success, failure]\n",
    "team_aus_outcomes = np.array([25, 25]) \n",
    "\n",
    "test_name, p_value1 = choose_and_perform_test(team_ind_outcomes, team_aus_outcomes, data_type=\"categorical\")\n",
    "print(f\"Test performed: {test_name}\")\n",
    "print(f\"P-value: {p_value}\")"
   ]
  },
  {
   "cell_type": "markdown",
   "id": "3475a3d3",
   "metadata": {},
   "source": [
    "<h3> <span style=\"color:Green\">Conclusion</span><h3>"
   ]
  },
  {
   "cell_type": "code",
   "execution_count": 12,
   "id": "8da325aa",
   "metadata": {},
   "outputs": [
    {
     "name": "stdout",
     "output_type": "stream",
     "text": [
      "Fail to reject the null hypothesis: There is no significant difference.\n"
     ]
    }
   ],
   "source": [
    "alpha = 0.05  # significance level\n",
    "if p_value <= alpha:\n",
    "    print(\"Reject the null hypothesis: There is a significant difference.\")\n",
    "else:\n",
    "    print(\"Fail to reject the null hypothesis: There is no significant difference.\")"
   ]
  },
  {
   "cell_type": "code",
   "execution_count": null,
   "id": "8140fc6c",
   "metadata": {},
   "outputs": [],
   "source": []
  }
 ],
 "metadata": {
  "kernelspec": {
   "display_name": "Python 3 (ipykernel)",
   "language": "python",
   "name": "python3"
  },
  "language_info": {
   "codemirror_mode": {
    "name": "ipython",
    "version": 3
   },
   "file_extension": ".py",
   "mimetype": "text/x-python",
   "name": "python",
   "nbconvert_exporter": "python",
   "pygments_lexer": "ipython3",
   "version": "3.11.7"
  }
 },
 "nbformat": 4,
 "nbformat_minor": 5
}
